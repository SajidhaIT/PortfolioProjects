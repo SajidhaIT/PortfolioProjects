{
 "cells": [
  {
   "cell_type": "markdown",
   "id": "ca34bd7c-2c4e-48e6-88a2-a1e41914466e",
   "metadata": {},
   "source": [
    "# Functions"
   ]
  },
  {
   "cell_type": "code",
   "execution_count": 3,
   "id": "22c48e0c-9efb-4f1a-a9cb-8445b78131d8",
   "metadata": {},
   "outputs": [
    {
     "name": "stdout",
     "output_type": "stream",
     "text": [
      "My First Function\n"
     ]
    }
   ],
   "source": [
    "# Function and Body\n",
    "def function(): \n",
    "    print(\"My First Function\")\n",
    "\n",
    "\n",
    "\n",
    "# Function Call\n",
    "function()\n"
   ]
  },
  {
   "cell_type": "code",
   "execution_count": null,
   "id": "52abab5f-6198-4388-9f29-4e746aaa2d79",
   "metadata": {},
   "outputs": [],
   "source": []
  },
  {
   "cell_type": "code",
   "execution_count": 4,
   "id": "e2c0f9dc-5122-4d1a-84dd-7351fbbda146",
   "metadata": {},
   "outputs": [],
   "source": [
    "def first_func():\n",
    "    print('We did it!')"
   ]
  },
  {
   "cell_type": "code",
   "execution_count": 5,
   "id": "26f734f3-d4bc-4201-aafb-9b722e430c38",
   "metadata": {},
   "outputs": [
    {
     "name": "stdout",
     "output_type": "stream",
     "text": [
      "We did it!\n"
     ]
    }
   ],
   "source": [
    "first_func()\n"
   ]
  },
  {
   "cell_type": "code",
   "execution_count": null,
   "id": "d55f9e22-be59-4c6e-a6d6-c82d743ef404",
   "metadata": {},
   "outputs": [],
   "source": []
  },
  {
   "cell_type": "markdown",
   "id": "6eb45ca1-bd6c-487b-8787-f0d4139fc700",
   "metadata": {},
   "source": [
    "# Function with arguments"
   ]
  },
  {
   "cell_type": "code",
   "execution_count": 8,
   "id": "8d93a9a1-c1f7-4120-b14d-366407bd4591",
   "metadata": {},
   "outputs": [],
   "source": [
    "# Function with arguments\n",
    "\n",
    "def number_squared(number):\n",
    "    print(number**2)\n",
    "    "
   ]
  },
  {
   "cell_type": "code",
   "execution_count": 10,
   "id": "d8bf74c8-4a2b-4655-9f0e-6083c45773c1",
   "metadata": {},
   "outputs": [
    {
     "name": "stdout",
     "output_type": "stream",
     "text": [
      "25\n"
     ]
    }
   ],
   "source": [
    "\n",
    "number_squared(5)"
   ]
  },
  {
   "cell_type": "code",
   "execution_count": null,
   "id": "bc1964b4-265f-4291-91b3-d7b555f328e4",
   "metadata": {},
   "outputs": [],
   "source": []
  },
  {
   "cell_type": "code",
   "execution_count": 12,
   "id": "edfead1f-80bf-4c63-8c0c-60ada4a4d3ca",
   "metadata": {},
   "outputs": [],
   "source": [
    "# Function with arguments\n",
    "\n",
    "def number_squared(number, power):\n",
    "    print(number**power)"
   ]
  },
  {
   "cell_type": "code",
   "execution_count": 16,
   "id": "2b123050-a412-4c07-b783-94f3b03c9c73",
   "metadata": {},
   "outputs": [
    {
     "name": "stdout",
     "output_type": "stream",
     "text": [
      "125\n"
     ]
    }
   ],
   "source": [
    "number_squared(5,3)"
   ]
  },
  {
   "cell_type": "code",
   "execution_count": null,
   "id": "cf28e3e4-3b2b-49f9-89c1-97028f86458d",
   "metadata": {},
   "outputs": [],
   "source": []
  },
  {
   "cell_type": "markdown",
   "id": "5a633edf-4858-49a5-9af9-1c8e95cd9dc3",
   "metadata": {},
   "source": [
    "# Function with undefined number of arguments"
   ]
  },
  {
   "cell_type": "code",
   "execution_count": 28,
   "id": "0aeb2a41-ca89-4bba-8c34-496a1babc3db",
   "metadata": {},
   "outputs": [],
   "source": [
    "# Function with undefined number of arguments (WE HAVE TO ADD * BEFORE ARGUMENT NAME WHILE CREATING FUNCTION)\n",
    "\n",
    "def number_args(*args):\n",
    "    print(args[0]*args[1])"
   ]
  },
  {
   "cell_type": "code",
   "execution_count": 18,
   "id": "d289f0d8-774a-46de-93e4-371c25578aeb",
   "metadata": {},
   "outputs": [
    {
     "name": "stdout",
     "output_type": "stream",
     "text": [
      "30\n"
     ]
    }
   ],
   "source": [
    "number_args(5,6)"
   ]
  },
  {
   "cell_type": "code",
   "execution_count": 19,
   "id": "75bcc40b-27c9-4cbd-a04e-99e56eb9aa2c",
   "metadata": {},
   "outputs": [
    {
     "name": "stdout",
     "output_type": "stream",
     "text": [
      "30\n"
     ]
    }
   ],
   "source": [
    "number_args(5,6,1)"
   ]
  },
  {
   "cell_type": "code",
   "execution_count": 20,
   "id": "60577712-4b19-4c95-ba64-d7070129b525",
   "metadata": {},
   "outputs": [
    {
     "name": "stdout",
     "output_type": "stream",
     "text": [
      "30\n"
     ]
    }
   ],
   "source": [
    "number_args(5,6,1,2)"
   ]
  },
  {
   "cell_type": "code",
   "execution_count": null,
   "id": "5021a4f0-29fd-4f6d-85e0-6f52b8d7516c",
   "metadata": {},
   "outputs": [],
   "source": []
  },
  {
   "cell_type": "markdown",
   "id": "9e75295e-3f1c-45c9-ab8a-beef41724b54",
   "metadata": {},
   "source": [
    "# Calling Function with undefined number of arguments using Tuples"
   ]
  },
  {
   "cell_type": "code",
   "execution_count": 23,
   "id": "976642d9-cc94-4cb2-8ece-ffff92ddbbdd",
   "metadata": {},
   "outputs": [
    {
     "name": "stdout",
     "output_type": "stream",
     "text": [
      "30\n"
     ]
    }
   ],
   "source": [
    "# Calling Function with undefined number of arguments using Tuples\n",
    "\n",
    "args_tuple = (5,6,1,2,8)\n",
    "number_args(*args_tuple)\n"
   ]
  },
  {
   "cell_type": "code",
   "execution_count": null,
   "id": "3e4b2f11-a24f-46a6-832b-ab764a8b91f1",
   "metadata": {},
   "outputs": [],
   "source": []
  },
  {
   "cell_type": "code",
   "execution_count": null,
   "id": "6bf6d1b7-f6fd-4c52-a03d-19050329e6d5",
   "metadata": {},
   "outputs": [],
   "source": []
  },
  {
   "cell_type": "markdown",
   "id": "e2afcbc5-6fc0-44db-89f8-4cde8ebda7d6",
   "metadata": {},
   "source": [
    "# Function with keyword arguments"
   ]
  },
  {
   "cell_type": "code",
   "execution_count": 25,
   "id": "f08d18ad-9994-407e-bf70-5a088d1b95d2",
   "metadata": {},
   "outputs": [],
   "source": [
    "# Function with keyword arguments\n",
    "\n",
    "def number_squared_cust(number, power):\n",
    "    print(number**power)"
   ]
  },
  {
   "cell_type": "code",
   "execution_count": null,
   "id": "e45b9b68-e5b6-457c-966a-5f1423fddbb1",
   "metadata": {},
   "outputs": [],
   "source": []
  },
  {
   "cell_type": "code",
   "execution_count": 27,
   "id": "60d47b33-5643-4758-89ae-65d81137e3b0",
   "metadata": {},
   "outputs": [
    {
     "name": "stdout",
     "output_type": "stream",
     "text": [
      "243\n"
     ]
    }
   ],
   "source": [
    "# Calling Function with keyword arguments\n",
    "\n",
    "number_squared_cust(number=3, power=5)"
   ]
  },
  {
   "cell_type": "code",
   "execution_count": null,
   "id": "b0e83c05-c97a-4a4a-89d6-f83060aa88cb",
   "metadata": {},
   "outputs": [],
   "source": []
  },
  {
   "cell_type": "code",
   "execution_count": null,
   "id": "20d977f5-7731-46d7-ae6e-55e9cb377e62",
   "metadata": {},
   "outputs": [],
   "source": []
  },
  {
   "cell_type": "markdown",
   "id": "36bfe049-a946-43cb-bbb4-d9117b7dc322",
   "metadata": {},
   "source": [
    "# Function with Arbitrary keyword arguments"
   ]
  },
  {
   "cell_type": "code",
   "execution_count": 40,
   "id": "333f1de2-fa9a-462f-8950-b538ca3e5f62",
   "metadata": {},
   "outputs": [],
   "source": [
    "# Function with undefined number of Key Arguments (WE HAVE TO ADD ** BEFORE ARGUMENT NAME WHILE CREATING FUNCTION)\n",
    "\n",
    "def number_kwarg(**number):\n",
    "    print('My number is:' + number['integer'] + ' My other number is:' + number['integer2'])"
   ]
  },
  {
   "cell_type": "code",
   "execution_count": 41,
   "id": "c36030cb-ffc6-4ccb-a211-0a72c790b024",
   "metadata": {},
   "outputs": [
    {
     "name": "stdout",
     "output_type": "stream",
     "text": [
      "My number is:2309 My other number is:505\n"
     ]
    }
   ],
   "source": [
    "\n",
    "number_kwarg(integer = '2309', integer2 = '505')"
   ]
  },
  {
   "cell_type": "code",
   "execution_count": null,
   "id": "6cd3d6b2-4c71-4942-a5fc-a34307c8a118",
   "metadata": {},
   "outputs": [],
   "source": []
  },
  {
   "cell_type": "code",
   "execution_count": null,
   "id": "45e1480a-9949-4f05-b48a-7309eeec93ce",
   "metadata": {},
   "outputs": [],
   "source": []
  },
  {
   "cell_type": "code",
   "execution_count": null,
   "id": "a4125b42-2969-4bb1-9d7c-d9e2c0acfbd0",
   "metadata": {},
   "outputs": [],
   "source": []
  },
  {
   "cell_type": "code",
   "execution_count": null,
   "id": "8d7cbf8b-a520-4eb1-b119-7f70cb3d9ae8",
   "metadata": {},
   "outputs": [],
   "source": []
  }
 ],
 "metadata": {
  "kernelspec": {
   "display_name": "Python 3 (ipykernel)",
   "language": "python",
   "name": "python3"
  },
  "language_info": {
   "codemirror_mode": {
    "name": "ipython",
    "version": 3
   },
   "file_extension": ".py",
   "mimetype": "text/x-python",
   "name": "python",
   "nbconvert_exporter": "python",
   "pygments_lexer": "ipython3",
   "version": "3.11.7"
  }
 },
 "nbformat": 4,
 "nbformat_minor": 5
}

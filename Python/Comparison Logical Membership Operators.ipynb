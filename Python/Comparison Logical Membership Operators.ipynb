{
 "cells": [
  {
   "cell_type": "markdown",
   "id": "2a90a51f-c062-4c28-9906-01c6e78a9c9b",
   "metadata": {},
   "source": [
    "# Operators\n"
   ]
  },
  {
   "cell_type": "code",
   "execution_count": null,
   "id": "7faf4610-1d09-4b3c-88c7-2cd197d7857d",
   "metadata": {},
   "outputs": [],
   "source": []
  },
  {
   "cell_type": "markdown",
   "id": "cb21adda-3a9d-4f41-bdf3-112f8e5fd230",
   "metadata": {},
   "source": [
    "# Comparison Operators\n",
    "#  ==   Equal\n",
    "#  !=   Not Equal\n",
    "#  >    Greater than\n",
    "#  <   Less than\n",
    "#  >=  Greater than or Equal to\n",
    "#  <=  Lesser than or Equal to"
   ]
  },
  {
   "cell_type": "code",
   "execution_count": 1,
   "id": "9fc11a46-1284-435d-a061-eee016f8a876",
   "metadata": {},
   "outputs": [
    {
     "data": {
      "text/plain": [
       "True"
      ]
     },
     "execution_count": 1,
     "metadata": {},
     "output_type": "execute_result"
    }
   ],
   "source": [
    "10 == 10\n"
   ]
  },
  {
   "cell_type": "code",
   "execution_count": 2,
   "id": "acb9e206-5451-4098-a7d2-52e0a24a4bf8",
   "metadata": {},
   "outputs": [
    {
     "data": {
      "text/plain": [
       "True"
      ]
     },
     "execution_count": 2,
     "metadata": {},
     "output_type": "execute_result"
    }
   ],
   "source": [
    "10 != 60"
   ]
  },
  {
   "cell_type": "code",
   "execution_count": 3,
   "id": "e974f2df-a5e6-4efa-b5eb-56f77becab3c",
   "metadata": {},
   "outputs": [
    {
     "data": {
      "text/plain": [
       "True"
      ]
     },
     "execution_count": 3,
     "metadata": {},
     "output_type": "execute_result"
    }
   ],
   "source": [
    "'Rose' == 'Rose'"
   ]
  },
  {
   "cell_type": "code",
   "execution_count": 4,
   "id": "b5410834-14ff-48ba-a5f4-6f0736fc00dd",
   "metadata": {},
   "outputs": [
    {
     "data": {
      "text/plain": [
       "False"
      ]
     },
     "execution_count": 4,
     "metadata": {},
     "output_type": "execute_result"
    }
   ],
   "source": [
    "x = 'Rose'\n",
    "y = 'Red'\n",
    "x == y"
   ]
  },
  {
   "cell_type": "code",
   "execution_count": 5,
   "id": "5e4079d8-bcad-4c52-9ef6-67754c0ebf4c",
   "metadata": {},
   "outputs": [
    {
     "data": {
      "text/plain": [
       "True"
      ]
     },
     "execution_count": 5,
     "metadata": {},
     "output_type": "execute_result"
    }
   ],
   "source": [
    "x != y\n"
   ]
  },
  {
   "cell_type": "code",
   "execution_count": 6,
   "id": "f65a9573-4b47-4559-9fd6-3464c3786e01",
   "metadata": {},
   "outputs": [
    {
     "data": {
      "text/plain": [
       "False"
      ]
     },
     "execution_count": 6,
     "metadata": {},
     "output_type": "execute_result"
    }
   ],
   "source": [
    "10 < 10"
   ]
  },
  {
   "cell_type": "code",
   "execution_count": 7,
   "id": "b4221c18-22f7-4187-96dd-edfcd767a69e",
   "metadata": {},
   "outputs": [
    {
     "data": {
      "text/plain": [
       "True"
      ]
     },
     "execution_count": 7,
     "metadata": {},
     "output_type": "execute_result"
    }
   ],
   "source": [
    "10 <= 10"
   ]
  },
  {
   "cell_type": "code",
   "execution_count": null,
   "id": "f3cb4736-0fc8-4454-98aa-00042cc9fe30",
   "metadata": {},
   "outputs": [],
   "source": []
  },
  {
   "cell_type": "markdown",
   "id": "2231519d-4489-4ace-a31b-001bbe7188f9",
   "metadata": {},
   "source": [
    "# Logical Operators"
   ]
  },
  {
   "cell_type": "markdown",
   "id": "d0b03697-a7ec-44ac-814c-8e744861568a",
   "metadata": {},
   "source": []
  },
  {
   "cell_type": "markdown",
   "id": "d188a6be-d22e-46ab-afb7-2038e1b6a53b",
   "metadata": {},
   "source": [
    "# and      \n",
    "        Returns True if both statements are true\n",
    "        \n",
    "# or       \n",
    "        Returns True if one of the statement is true\n",
    "        \n",
    "# not      \n",
    "        Reverse the result, returns False if the result is true\n",
    "        \n"
   ]
  },
  {
   "cell_type": "code",
   "execution_count": 8,
   "id": "4de4e144-683a-4fa3-bfec-5a1dca057219",
   "metadata": {},
   "outputs": [
    {
     "data": {
      "text/plain": [
       "False"
      ]
     },
     "execution_count": 8,
     "metadata": {},
     "output_type": "execute_result"
    }
   ],
   "source": [
    "10 > 50"
   ]
  },
  {
   "cell_type": "code",
   "execution_count": 9,
   "id": "daaad923-f5b4-48e9-aa3f-87a85eabb0f1",
   "metadata": {},
   "outputs": [
    {
     "data": {
      "text/plain": [
       "False"
      ]
     },
     "execution_count": 9,
     "metadata": {},
     "output_type": "execute_result"
    }
   ],
   "source": [
    "(10 > 50) and (50 > 10)"
   ]
  },
  {
   "cell_type": "code",
   "execution_count": 10,
   "id": "f8674f23-38d8-4451-94d6-ce2ac6ebba59",
   "metadata": {},
   "outputs": [
    {
     "data": {
      "text/plain": [
       "True"
      ]
     },
     "execution_count": 10,
     "metadata": {},
     "output_type": "execute_result"
    }
   ],
   "source": [
    "(10 < 50) and (50 > 10)"
   ]
  },
  {
   "cell_type": "code",
   "execution_count": 11,
   "id": "3795a21b-7f61-45e3-9fb2-b4fb93d87c09",
   "metadata": {},
   "outputs": [
    {
     "data": {
      "text/plain": [
       "True"
      ]
     },
     "execution_count": 11,
     "metadata": {},
     "output_type": "execute_result"
    }
   ],
   "source": [
    "(10 > 50) or (50 > 10)"
   ]
  },
  {
   "cell_type": "code",
   "execution_count": 14,
   "id": "aaae2a21-8782-477a-bf8e-72565a890649",
   "metadata": {},
   "outputs": [
    {
     "data": {
      "text/plain": [
       "True"
      ]
     },
     "execution_count": 14,
     "metadata": {},
     "output_type": "execute_result"
    }
   ],
   "source": [
    "(10 > 50) or (50 > 10)"
   ]
  },
  {
   "cell_type": "code",
   "execution_count": 15,
   "id": "5b1d1126-de4d-4aa0-b563-634e5b3df7c9",
   "metadata": {},
   "outputs": [
    {
     "data": {
      "text/plain": [
       "False"
      ]
     },
     "execution_count": 15,
     "metadata": {},
     "output_type": "execute_result"
    }
   ],
   "source": [
    "(10 > 50) or (50 < 10)"
   ]
  },
  {
   "cell_type": "code",
   "execution_count": 16,
   "id": "83ac66d3-85f1-4be5-ae5f-a48aaf372fd3",
   "metadata": {},
   "outputs": [
    {
     "data": {
      "text/plain": [
       "True"
      ]
     },
     "execution_count": 16,
     "metadata": {},
     "output_type": "execute_result"
    }
   ],
   "source": [
    "not(10 > 50) "
   ]
  },
  {
   "cell_type": "code",
   "execution_count": 17,
   "id": "96fa3d4a-edeb-4b5f-b852-01641130d26e",
   "metadata": {},
   "outputs": [
    {
     "data": {
      "text/plain": [
       "False"
      ]
     },
     "execution_count": 17,
     "metadata": {},
     "output_type": "execute_result"
    }
   ],
   "source": [
    "not(10 < 50) "
   ]
  },
  {
   "cell_type": "code",
   "execution_count": null,
   "id": "0f7ab5e3-7a42-49c2-b368-632b16079194",
   "metadata": {},
   "outputs": [],
   "source": []
  },
  {
   "cell_type": "code",
   "execution_count": null,
   "id": "9a6da970-c3ae-4a33-ab4b-50f51500cf79",
   "metadata": {},
   "outputs": [],
   "source": []
  },
  {
   "cell_type": "markdown",
   "id": "46768d18-8f13-4a7e-b345-6d59f71541c9",
   "metadata": {},
   "source": [
    "# Membership Operators\n",
    "\n",
    "# in  \n",
    "        Returns True if a sequence with the specified value is present in the object\n",
    "\n",
    "# not in  \n",
    "        Returns True if a sequence with the specified value is not present in the object\n"
   ]
  },
  {
   "cell_type": "code",
   "execution_count": 18,
   "id": "e88f5eaf-3860-4615-b19e-c535107daa30",
   "metadata": {},
   "outputs": [
    {
     "data": {
      "text/plain": [
       "True"
      ]
     },
     "execution_count": 18,
     "metadata": {},
     "output_type": "execute_result"
    }
   ],
   "source": [
    "ice_cream = 'I love Ice Cream'\n",
    "\n",
    "'love' in ice_cream"
   ]
  },
  {
   "cell_type": "code",
   "execution_count": 19,
   "id": "aa6bf10a-4833-469e-a462-45006f1daf06",
   "metadata": {},
   "outputs": [
    {
     "data": {
      "text/plain": [
       "False"
      ]
     },
     "execution_count": 19,
     "metadata": {},
     "output_type": "execute_result"
    }
   ],
   "source": [
    "scoops = [1,2,3,4,5]\n",
    "wanted_scoops = 8\n",
    "\n",
    "wanted_scoops in scoops"
   ]
  },
  {
   "cell_type": "code",
   "execution_count": 20,
   "id": "4451ea2e-e135-402b-a269-de483bdc4e51",
   "metadata": {},
   "outputs": [
    {
     "data": {
      "text/plain": [
       "True"
      ]
     },
     "execution_count": 20,
     "metadata": {},
     "output_type": "execute_result"
    }
   ],
   "source": [
    "wanted_scoops not in scoops"
   ]
  },
  {
   "cell_type": "code",
   "execution_count": null,
   "id": "a34bf991-63fc-413a-8c4d-b516dfc829db",
   "metadata": {},
   "outputs": [],
   "source": []
  }
 ],
 "metadata": {
  "kernelspec": {
   "display_name": "Python 3 (ipykernel)",
   "language": "python",
   "name": "python3"
  },
  "language_info": {
   "codemirror_mode": {
    "name": "ipython",
    "version": 3
   },
   "file_extension": ".py",
   "mimetype": "text/x-python",
   "name": "python",
   "nbconvert_exporter": "python",
   "pygments_lexer": "ipython3",
   "version": "3.11.7"
  }
 },
 "nbformat": 4,
 "nbformat_minor": 5
}

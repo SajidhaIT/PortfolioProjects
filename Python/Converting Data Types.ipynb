{
 "cells": [
  {
   "cell_type": "markdown",
   "id": "07a06216-fcb2-450e-b88d-6ffd9f09aaf1",
   "metadata": {},
   "source": [
    "# Converting Data Types"
   ]
  },
  {
   "cell_type": "code",
   "execution_count": null,
   "id": "1af58073-21f3-4a9d-a18b-a29b744010f5",
   "metadata": {},
   "outputs": [],
   "source": []
  },
  {
   "cell_type": "code",
   "execution_count": 1,
   "id": "ffd5a0b3-43fa-4de8-baa4-1e29031a3b4b",
   "metadata": {},
   "outputs": [
    {
     "data": {
      "text/plain": [
       "int"
      ]
     },
     "execution_count": 1,
     "metadata": {},
     "output_type": "execute_result"
    }
   ],
   "source": [
    "num_int = 7\n",
    "\n",
    "type(num_int)"
   ]
  },
  {
   "cell_type": "code",
   "execution_count": 2,
   "id": "d71fa17c-b9b3-4f44-be11-9caf258ae34e",
   "metadata": {},
   "outputs": [
    {
     "data": {
      "text/plain": [
       "str"
      ]
     },
     "execution_count": 2,
     "metadata": {},
     "output_type": "execute_result"
    }
   ],
   "source": [
    "num_str = '7'\n",
    "\n",
    "type(num_str)"
   ]
  },
  {
   "cell_type": "markdown",
   "id": "ed9897d0-e6dc-44bb-8f4c-21b37388e479",
   "metadata": {},
   "source": [
    "# int( )  to convert string to Integer\n"
   ]
  },
  {
   "cell_type": "code",
   "execution_count": 7,
   "id": "a8ff4e06-bff2-4dd8-8886-1c6b3a53ceff",
   "metadata": {},
   "outputs": [
    {
     "name": "stdout",
     "output_type": "stream",
     "text": [
      "14\n"
     ]
    }
   ],
   "source": [
    "# int()  to convert string to Integer\n",
    "\n",
    "num_sum = num_int + int(num_str)\n",
    "type(num_sum)\n",
    "print(num_sum)"
   ]
  },
  {
   "cell_type": "code",
   "execution_count": null,
   "id": "a1fdde4c-26b9-4978-b504-22835988400b",
   "metadata": {},
   "outputs": [],
   "source": []
  },
  {
   "cell_type": "code",
   "execution_count": 14,
   "id": "0bda569a-6946-426a-9558-db14e5857149",
   "metadata": {},
   "outputs": [
    {
     "data": {
      "text/plain": [
       "list"
      ]
     },
     "execution_count": 14,
     "metadata": {},
     "output_type": "execute_result"
    }
   ],
   "source": [
    "list_type = [1,2,3]\n",
    "\n",
    "type(list_type)"
   ]
  },
  {
   "cell_type": "code",
   "execution_count": 15,
   "id": "8dac895c-f6c1-4b8c-963d-dbf7da8bd4b6",
   "metadata": {},
   "outputs": [
    {
     "name": "stdout",
     "output_type": "stream",
     "text": [
      "[1, 2, 3]\n"
     ]
    }
   ],
   "source": [
    "print(list_type)"
   ]
  },
  {
   "cell_type": "code",
   "execution_count": null,
   "id": "540ee4be-6406-4a9f-ab82-52aba7c7042c",
   "metadata": {},
   "outputs": [],
   "source": []
  },
  {
   "cell_type": "markdown",
   "id": "e4a8801c-321d-414f-b059-1051c247be68",
   "metadata": {},
   "source": [
    "# tuple( ) to convert List into a Tuple"
   ]
  },
  {
   "cell_type": "code",
   "execution_count": 10,
   "id": "513fb143-d568-4143-b868-47130a652e4b",
   "metadata": {},
   "outputs": [
    {
     "data": {
      "text/plain": [
       "tuple"
      ]
     },
     "execution_count": 10,
     "metadata": {},
     "output_type": "execute_result"
    }
   ],
   "source": [
    "# tuple() to convert List into a Tuple\n",
    "type(tuple(list_type))"
   ]
  },
  {
   "cell_type": "code",
   "execution_count": 16,
   "id": "1243ce21-14d1-4f2c-ad5b-cdf70b3714b4",
   "metadata": {},
   "outputs": [
    {
     "name": "stdout",
     "output_type": "stream",
     "text": [
      "(1, 2, 3)\n"
     ]
    }
   ],
   "source": [
    "print(tuple(list_type))"
   ]
  },
  {
   "cell_type": "code",
   "execution_count": null,
   "id": "d3b5bbf2-887d-46d6-95d5-6571bfd9ba8d",
   "metadata": {},
   "outputs": [],
   "source": []
  },
  {
   "cell_type": "markdown",
   "id": "6ed25d88-945d-4d05-a326-5ab06d29b2b5",
   "metadata": {},
   "source": [
    "# set( ) to convert List into a Set  \n",
    "We should be carefull when converting List into a Set, as it will take only the unique values"
   ]
  },
  {
   "cell_type": "code",
   "execution_count": 20,
   "id": "e04e8ba2-15df-4881-a8fb-d989a500dac0",
   "metadata": {},
   "outputs": [
    {
     "data": {
      "text/plain": [
       "set"
      ]
     },
     "execution_count": 20,
     "metadata": {},
     "output_type": "execute_result"
    }
   ],
   "source": [
    "# set() to convert List into a Set          # We should be carefull when converting List into a Set, as it will take only the unique values\n",
    "list_type = [1,2,3,1,3,3,2,1,3]\n",
    "\n",
    "type(set(list_type))"
   ]
  },
  {
   "cell_type": "code",
   "execution_count": 21,
   "id": "55514bd4-c975-4ac8-b817-87b5830a3b61",
   "metadata": {},
   "outputs": [
    {
     "name": "stdout",
     "output_type": "stream",
     "text": [
      "{1, 2, 3}\n"
     ]
    }
   ],
   "source": [
    "print(set(list_type))"
   ]
  },
  {
   "cell_type": "code",
   "execution_count": null,
   "id": "3648d78c-a4fd-45aa-825e-50aaf5079102",
   "metadata": {},
   "outputs": [],
   "source": []
  },
  {
   "cell_type": "code",
   "execution_count": null,
   "id": "82067dda-72ce-43c8-99bb-b6fdbc5f4803",
   "metadata": {},
   "outputs": [],
   "source": []
  },
  {
   "cell_type": "markdown",
   "id": "524174f7-0f2e-4178-a7d2-44a2efd19d9f",
   "metadata": {},
   "source": [
    "# list( ) to convert directory into a list"
   ]
  },
  {
   "cell_type": "code",
   "execution_count": 22,
   "id": "a6a7667a-a378-4d05-ac3f-703bf18d4f48",
   "metadata": {},
   "outputs": [
    {
     "data": {
      "text/plain": [
       "dict"
      ]
     },
     "execution_count": 22,
     "metadata": {},
     "output_type": "execute_result"
    }
   ],
   "source": [
    "dict_type = {'name': 'Alex', 'age':28, 'hair':'N/A'}\n",
    "\n",
    "type(dict_type)"
   ]
  },
  {
   "cell_type": "code",
   "execution_count": 23,
   "id": "2f15778b-3dca-41c0-9c54-fb280cce6dce",
   "metadata": {},
   "outputs": [
    {
     "data": {
      "text/plain": [
       "dict_items([('name', 'Alex'), ('age', 28), ('hair', 'N/A')])"
      ]
     },
     "execution_count": 23,
     "metadata": {},
     "output_type": "execute_result"
    }
   ],
   "source": [
    "dict_type.items()"
   ]
  },
  {
   "cell_type": "code",
   "execution_count": 24,
   "id": "8f38df80-e07e-41e9-a2fd-1eb7d432f850",
   "metadata": {},
   "outputs": [
    {
     "data": {
      "text/plain": [
       "dict_values(['Alex', 28, 'N/A'])"
      ]
     },
     "execution_count": 24,
     "metadata": {},
     "output_type": "execute_result"
    }
   ],
   "source": [
    "dict_type.values()"
   ]
  },
  {
   "cell_type": "code",
   "execution_count": 25,
   "id": "7f76beea-d2d1-4d4e-a1bd-499f20b6acd3",
   "metadata": {},
   "outputs": [
    {
     "data": {
      "text/plain": [
       "dict_keys(['name', 'age', 'hair'])"
      ]
     },
     "execution_count": 25,
     "metadata": {},
     "output_type": "execute_result"
    }
   ],
   "source": [
    "dict_type.keys()"
   ]
  },
  {
   "cell_type": "code",
   "execution_count": 26,
   "id": "ba7c03d2-1415-4154-97e4-1dad542b203c",
   "metadata": {},
   "outputs": [
    {
     "data": {
      "text/plain": [
       "['name', 'age', 'hair']"
      ]
     },
     "execution_count": 26,
     "metadata": {},
     "output_type": "execute_result"
    }
   ],
   "source": [
    "# list( ) to convert directory into a list\n",
    "\n",
    "list(dict_type.keys())     #Converts Directory Keys into a list"
   ]
  },
  {
   "cell_type": "code",
   "execution_count": 27,
   "id": "d3d64206-41c2-4939-a7d5-0fd941c15ba4",
   "metadata": {},
   "outputs": [
    {
     "data": {
      "text/plain": [
       "list"
      ]
     },
     "execution_count": 27,
     "metadata": {},
     "output_type": "execute_result"
    }
   ],
   "source": [
    "type(list(dict_type.keys()))"
   ]
  },
  {
   "cell_type": "code",
   "execution_count": 28,
   "id": "c86ab820-42c4-4920-afab-ae74144f4c7c",
   "metadata": {},
   "outputs": [
    {
     "data": {
      "text/plain": [
       "['Alex', 28, 'N/A']"
      ]
     },
     "execution_count": 28,
     "metadata": {},
     "output_type": "execute_result"
    }
   ],
   "source": [
    "list(dict_type.values())     #Converts Directory values into a list"
   ]
  },
  {
   "cell_type": "code",
   "execution_count": null,
   "id": "f15bb38d-6be0-4bd9-beaf-78159cd1e073",
   "metadata": {},
   "outputs": [],
   "source": []
  },
  {
   "cell_type": "code",
   "execution_count": null,
   "id": "8fc6ca5e-a20c-4707-a7bf-cbb01278c870",
   "metadata": {},
   "outputs": [],
   "source": []
  },
  {
   "cell_type": "markdown",
   "id": "aebdcc06-335e-4186-87ba-f357bb283a3b",
   "metadata": {},
   "source": [
    "# list( ) to convert a longer string into a list"
   ]
  },
  {
   "cell_type": "code",
   "execution_count": 29,
   "id": "15ea9803-0ee3-47d5-a75c-9c4138336232",
   "metadata": {},
   "outputs": [
    {
     "data": {
      "text/plain": [
       "['I',\n",
       " ' ',\n",
       " 'l',\n",
       " 'i',\n",
       " 'k',\n",
       " 'e',\n",
       " ' ',\n",
       " 'I',\n",
       " 'c',\n",
       " 'e',\n",
       " ' ',\n",
       " 'C',\n",
       " 'r',\n",
       " 'e',\n",
       " 'a',\n",
       " 'm']"
      ]
     },
     "execution_count": 29,
     "metadata": {},
     "output_type": "execute_result"
    }
   ],
   "source": [
    "# list( ) to convert a longer string into a list\n",
    "\n",
    "long_str = \"I like Ice Cream\"\n",
    "list(long_str)"
   ]
  },
  {
   "cell_type": "code",
   "execution_count": null,
   "id": "e3292a83-fac3-4e52-8947-b373ee0c395b",
   "metadata": {},
   "outputs": [],
   "source": []
  },
  {
   "cell_type": "code",
   "execution_count": null,
   "id": "ed007ca5-595f-4b33-a93f-705a2361b6c6",
   "metadata": {},
   "outputs": [],
   "source": []
  },
  {
   "cell_type": "markdown",
   "id": "f7b9b1a5-df22-429b-9024-00769f8baa18",
   "metadata": {},
   "source": [
    "# set( ) to convert a longer string into a list"
   ]
  },
  {
   "cell_type": "code",
   "execution_count": 30,
   "id": "b2beb311-0050-4c36-a031-04fa30e24c3c",
   "metadata": {},
   "outputs": [
    {
     "data": {
      "text/plain": [
       "{' ', 'C', 'I', 'a', 'c', 'e', 'i', 'k', 'l', 'm', 'r'}"
      ]
     },
     "execution_count": 30,
     "metadata": {},
     "output_type": "execute_result"
    }
   ],
   "source": [
    "# set( ) to convert a longer string into a list\n",
    "\n",
    "long_str = \"I like Ice Cream\"\n",
    "set(long_str)"
   ]
  },
  {
   "cell_type": "code",
   "execution_count": null,
   "id": "3cb94512-1e44-4a82-816f-08dcd87e6f62",
   "metadata": {},
   "outputs": [],
   "source": []
  },
  {
   "cell_type": "code",
   "execution_count": null,
   "id": "5794fcd9-6ca2-451e-9371-8f97d8c1beac",
   "metadata": {},
   "outputs": [],
   "source": []
  },
  {
   "cell_type": "code",
   "execution_count": null,
   "id": "48cdeb96-f80f-4789-ab0a-356397e9cec5",
   "metadata": {},
   "outputs": [],
   "source": []
  }
 ],
 "metadata": {
  "kernelspec": {
   "display_name": "Python 3 (ipykernel)",
   "language": "python",
   "name": "python3"
  },
  "language_info": {
   "codemirror_mode": {
    "name": "ipython",
    "version": 3
   },
   "file_extension": ".py",
   "mimetype": "text/x-python",
   "name": "python",
   "nbconvert_exporter": "python",
   "pygments_lexer": "ipython3",
   "version": "3.11.7"
  }
 },
 "nbformat": 4,
 "nbformat_minor": 5
}

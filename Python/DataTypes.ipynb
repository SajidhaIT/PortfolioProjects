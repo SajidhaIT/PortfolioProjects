{
 "cells": [
  {
   "cell_type": "markdown",
   "id": "f8bc2d7b-aed3-476d-85a0-467a2fe75a9e",
   "metadata": {},
   "source": [
    "# Data Types\n"
   ]
  },
  {
   "cell_type": "markdown",
   "id": "a4bdb848-60d3-4bee-a421-35f04703e712",
   "metadata": {},
   "source": [
    "# Int"
   ]
  },
  {
   "cell_type": "code",
   "execution_count": 1,
   "id": "3972c6d9-0852-4dc9-8560-21c124c995dc",
   "metadata": {},
   "outputs": [
    {
     "data": {
      "text/plain": [
       "int"
      ]
     },
     "execution_count": 1,
     "metadata": {},
     "output_type": "execute_result"
    }
   ],
   "source": [
    "type(100)"
   ]
  },
  {
   "cell_type": "code",
   "execution_count": 2,
   "id": "b4e0f67a-75c9-4a6d-b864-e7c857a8f8b1",
   "metadata": {},
   "outputs": [
    {
     "data": {
      "text/plain": [
       "int"
      ]
     },
     "execution_count": 2,
     "metadata": {},
     "output_type": "execute_result"
    }
   ],
   "source": [
    "type(-12)"
   ]
  },
  {
   "cell_type": "code",
   "execution_count": 3,
   "id": "ed144572-9eca-4dbe-9de6-f82924c269f7",
   "metadata": {},
   "outputs": [
    {
     "data": {
      "text/plain": [
       "int"
      ]
     },
     "execution_count": 3,
     "metadata": {},
     "output_type": "execute_result"
    }
   ],
   "source": [
    "type(-12 + 100)"
   ]
  },
  {
   "cell_type": "code",
   "execution_count": 4,
   "id": "c5e063f0-089d-45e0-929f-ca1d5a58db02",
   "metadata": {},
   "outputs": [
    {
     "data": {
      "text/plain": [
       "float"
      ]
     },
     "execution_count": 4,
     "metadata": {},
     "output_type": "execute_result"
    }
   ],
   "source": [
    "type(-12 + 10.25)"
   ]
  },
  {
   "cell_type": "code",
   "execution_count": 5,
   "id": "63e7f333-a08f-4173-987d-ef39345ecf67",
   "metadata": {},
   "outputs": [
    {
     "data": {
      "text/plain": [
       "complex"
      ]
     },
     "execution_count": 5,
     "metadata": {},
     "output_type": "execute_result"
    }
   ],
   "source": [
    "type(12 + 3j)"
   ]
  },
  {
   "cell_type": "markdown",
   "id": "1e7e7fb4-1a28-49e2-bd65-640c3e7635e8",
   "metadata": {},
   "source": [
    "# Boolean"
   ]
  },
  {
   "cell_type": "code",
   "execution_count": 6,
   "id": "2f2a71ca-e153-49d5-bc66-0fc66ee0eda4",
   "metadata": {},
   "outputs": [
    {
     "data": {
      "text/plain": [
       "bool"
      ]
     },
     "execution_count": 6,
     "metadata": {},
     "output_type": "execute_result"
    }
   ],
   "source": [
    "type(1 > 5)"
   ]
  },
  {
   "cell_type": "code",
   "execution_count": 7,
   "id": "2c769ccb-fa73-4799-a8f9-24100da641ff",
   "metadata": {},
   "outputs": [
    {
     "data": {
      "text/plain": [
       "False"
      ]
     },
     "execution_count": 7,
     "metadata": {},
     "output_type": "execute_result"
    }
   ],
   "source": [
    "1 > 5"
   ]
  },
  {
   "cell_type": "code",
   "execution_count": 9,
   "id": "4809b0cf-b97b-48e4-b308-6bf8eff39ba4",
   "metadata": {},
   "outputs": [
    {
     "data": {
      "text/plain": [
       "True"
      ]
     },
     "execution_count": 9,
     "metadata": {},
     "output_type": "execute_result"
    }
   ],
   "source": [
    "1 == 1"
   ]
  },
  {
   "cell_type": "markdown",
   "id": "265f791d-0464-4e77-86b9-a2884623106b",
   "metadata": {},
   "source": [
    "# Strings"
   ]
  },
  {
   "cell_type": "code",
   "execution_count": 10,
   "id": "ac33e552-ec27-45f4-94d3-7d56f3255bc3",
   "metadata": {},
   "outputs": [
    {
     "data": {
      "text/plain": [
       "'Single Quote'"
      ]
     },
     "execution_count": 10,
     "metadata": {},
     "output_type": "execute_result"
    }
   ],
   "source": [
    "'Single Quote'"
   ]
  },
  {
   "cell_type": "code",
   "execution_count": 11,
   "id": "deeef37c-5413-44e3-b80b-d5f2ba8b223b",
   "metadata": {},
   "outputs": [
    {
     "data": {
      "text/plain": [
       "'Double Quote'"
      ]
     },
     "execution_count": 11,
     "metadata": {},
     "output_type": "execute_result"
    }
   ],
   "source": [
    "\"Double Quote\""
   ]
  },
  {
   "cell_type": "code",
   "execution_count": 14,
   "id": "40fb3045-be43-495a-a9ce-7e47220d3b7c",
   "metadata": {},
   "outputs": [
    {
     "name": "stdout",
     "output_type": "stream",
     "text": [
      "\n",
      "The Icecream is\n",
      "my favorite dessert.\n",
      "I like vanilla flavor most\n",
      "\n"
     ]
    }
   ],
   "source": [
    "# \"\"\" is multiline\n",
    "multiline = \"\"\"\n",
    "The Icecream is\n",
    "my favorite dessert.\n",
    "I like vanilla flavor most\n",
    "\"\"\"\n",
    "print(multiline)"
   ]
  },
  {
   "cell_type": "code",
   "execution_count": 15,
   "id": "2f0ddd49-a8c4-42b1-b254-68053331381a",
   "metadata": {},
   "outputs": [
    {
     "data": {
      "text/plain": [
       "str"
      ]
     },
     "execution_count": 15,
     "metadata": {},
     "output_type": "execute_result"
    }
   ],
   "source": [
    "type(multiline)"
   ]
  },
  {
   "cell_type": "code",
   "execution_count": 17,
   "id": "0b70cf00-7c4c-45fb-9a41-852c3beb54c8",
   "metadata": {},
   "outputs": [
    {
     "name": "stdout",
     "output_type": "stream",
     "text": [
      "W\n"
     ]
    }
   ],
   "source": [
    "# Strings can be indexed\n",
    "\n",
    "a = \"Hello World!\"\n",
    "print(a[6])"
   ]
  },
  {
   "cell_type": "code",
   "execution_count": 20,
   "id": "31c8cd32-f66c-460f-9c4f-8922b996c466",
   "metadata": {},
   "outputs": [
    {
     "name": "stdout",
     "output_type": "stream",
     "text": [
      "l\n"
     ]
    }
   ],
   "source": [
    "print(a[-3])"
   ]
  },
  {
   "cell_type": "code",
   "execution_count": 22,
   "id": "5e909eec-8dc1-447f-b912-772f3adaa45d",
   "metadata": {},
   "outputs": [
    {
     "name": "stdout",
     "output_type": "stream",
     "text": [
      "llo\n"
     ]
    }
   ],
   "source": [
    "print(a[2:5])"
   ]
  },
  {
   "cell_type": "code",
   "execution_count": 23,
   "id": "390b4ef7-2558-4e28-ae40-cf4f0d496b25",
   "metadata": {},
   "outputs": [
    {
     "data": {
      "text/plain": [
       "'Hello World!Hello World!Hello World!'"
      ]
     },
     "execution_count": 23,
     "metadata": {},
     "output_type": "execute_result"
    }
   ],
   "source": [
    "a*3"
   ]
  },
  {
   "cell_type": "code",
   "execution_count": 24,
   "id": "ec251eec-0ec1-4538-bc6d-3f2b8136ff7a",
   "metadata": {},
   "outputs": [
    {
     "data": {
      "text/plain": [
       "'Hello World!Hello World!'"
      ]
     },
     "execution_count": 24,
     "metadata": {},
     "output_type": "execute_result"
    }
   ],
   "source": [
    "a + a"
   ]
  },
  {
   "cell_type": "code",
   "execution_count": 27,
   "id": "abe12009-8758-4fc4-8b9d-9dfd6e24a055",
   "metadata": {},
   "outputs": [
    {
     "data": {
      "text/plain": [
       "'Hello World!Hello World!Hello World!Hello World!'"
      ]
     },
     "execution_count": 27,
     "metadata": {},
     "output_type": "execute_result"
    }
   ],
   "source": [
    "a * 3 + a"
   ]
  },
  {
   "cell_type": "markdown",
   "id": "d21b2ce1-49db-4b4c-b84c-acd177252694",
   "metadata": {},
   "source": [
    "# List [ ]"
   ]
  },
  {
   "cell_type": "code",
   "execution_count": 28,
   "id": "b3672ec5-f20a-45dc-b602-8b595d96d6c2",
   "metadata": {},
   "outputs": [
    {
     "data": {
      "text/plain": [
       "[1, 2, 3]"
      ]
     },
     "execution_count": 28,
     "metadata": {},
     "output_type": "execute_result"
    }
   ],
   "source": [
    "# Uses [ ] brackets\n",
    "\n",
    "[1,2,3]"
   ]
  },
  {
   "cell_type": "code",
   "execution_count": 29,
   "id": "2a6304ef-5fff-4167-a5f4-254708db30ee",
   "metadata": {},
   "outputs": [
    {
     "data": {
      "text/plain": [
       "['Apple', 'Orange']"
      ]
     },
     "execution_count": 29,
     "metadata": {},
     "output_type": "execute_result"
    }
   ],
   "source": [
    "['Apple', 'Orange']"
   ]
  },
  {
   "cell_type": "code",
   "execution_count": 30,
   "id": "439ba133-e4ee-4642-ba53-f704c9afc6c8",
   "metadata": {},
   "outputs": [
    {
     "data": {
      "text/plain": [
       "['Vanilla', 3, ['Scoops', 'Spoon'], True]"
      ]
     },
     "execution_count": 30,
     "metadata": {},
     "output_type": "execute_result"
    }
   ],
   "source": [
    "# Can use multiple data types in single List. We can also have another List inside a List\n",
    "['Vanilla', 3, ['Scoops', 'Spoon'], True]"
   ]
  },
  {
   "cell_type": "code",
   "execution_count": 33,
   "id": "07437a88-2351-44ea-8007-f6427548d673",
   "metadata": {},
   "outputs": [
    {
     "data": {
      "text/plain": [
       "['Cookie', 'Vanilla', 'Chocolate', 'Strawberry', 'Caramel']"
      ]
     },
     "execution_count": 33,
     "metadata": {},
     "output_type": "execute_result"
    }
   ],
   "source": [
    "# We can add or remove items from the List\n",
    "ice_cream = ['Cookie', 'Vanilla', 'Chocolate', 'Strawberry']\n",
    "\n",
    "# append  <- Adds a item to the List\n",
    "ice_cream.append('Caramel')\n",
    "\n",
    "ice_cream"
   ]
  },
  {
   "cell_type": "code",
   "execution_count": 34,
   "id": "452bb6eb-7eab-4b04-8a4b-276a29a314d6",
   "metadata": {},
   "outputs": [
    {
     "data": {
      "text/plain": [
       "['Butter', 'Vanilla', 'Chocolate', 'Strawberry', 'Caramel']"
      ]
     },
     "execution_count": 34,
     "metadata": {},
     "output_type": "execute_result"
    }
   ],
   "source": [
    "# We can use index value to change an item in desired position\n",
    "ice_cream[0] = 'Butter'\n",
    "\n",
    "ice_cream"
   ]
  },
  {
   "cell_type": "code",
   "execution_count": 35,
   "id": "1443c68c-8b45-474c-b8ee-027919698cf0",
   "metadata": {},
   "outputs": [
    {
     "data": {
      "text/plain": [
       "['Scoops', 'Spoon']"
      ]
     },
     "execution_count": 35,
     "metadata": {},
     "output_type": "execute_result"
    }
   ],
   "source": [
    "# Nested Lists\n",
    "nest_list = ['Vanilla', 3, ['Scoops', 'Spoon'], True]\n",
    "\n",
    "nest_list[2]"
   ]
  },
  {
   "cell_type": "code",
   "execution_count": 36,
   "id": "6d51535c-ab5d-4f1c-816c-6ffc927701c0",
   "metadata": {},
   "outputs": [
    {
     "data": {
      "text/plain": [
       "'Spoon'"
      ]
     },
     "execution_count": 36,
     "metadata": {},
     "output_type": "execute_result"
    }
   ],
   "source": [
    "nest_list[2][1]"
   ]
  },
  {
   "cell_type": "code",
   "execution_count": null,
   "id": "3587a0dc-b614-45de-9b31-45c38e13c1c4",
   "metadata": {},
   "outputs": [],
   "source": []
  },
  {
   "cell_type": "markdown",
   "id": "f6076154-a5b2-4323-916e-6088ade96d3f",
   "metadata": {},
   "source": [
    "# Tuple ( )\n",
    "Tuple is same as the List but it cannot be modified after it is created"
   ]
  },
  {
   "cell_type": "code",
   "execution_count": 38,
   "id": "c3c9614b-b226-497c-b3a6-6864a78d575f",
   "metadata": {},
   "outputs": [
    {
     "data": {
      "text/plain": [
       "tuple"
      ]
     },
     "execution_count": 38,
     "metadata": {},
     "output_type": "execute_result"
    }
   ],
   "source": [
    "tuple_scoops = (1,2,3,2,1)\n",
    "type(tuple_scoops)"
   ]
  },
  {
   "cell_type": "code",
   "execution_count": 39,
   "id": "9b8d6964-af64-48e8-8e59-28cb4af0f7e6",
   "metadata": {},
   "outputs": [
    {
     "data": {
      "text/plain": [
       "2"
      ]
     },
     "execution_count": 39,
     "metadata": {},
     "output_type": "execute_result"
    }
   ],
   "source": [
    "# We can use index to get an item in desired position\n",
    "\n",
    "tuple_scoops[1]"
   ]
  },
  {
   "cell_type": "code",
   "execution_count": null,
   "id": "a862caf2-5a20-4cff-ac4b-710420573393",
   "metadata": {},
   "outputs": [],
   "source": []
  },
  {
   "cell_type": "code",
   "execution_count": null,
   "id": "a9dab96a-ec59-447b-886b-e0cc7dfcac35",
   "metadata": {},
   "outputs": [],
   "source": []
  },
  {
   "cell_type": "markdown",
   "id": "983ccb67-b834-4f7f-8e39-d2b8f6c5f76f",
   "metadata": {},
   "source": [
    "# Sets { }\n",
    "\n",
    "Same as List and Tuple.   Values should be unique.   But it is an unordered list.   So we cannot use index to access them.   We can use for loops to iterate through them."
   ]
  },
  {
   "cell_type": "code",
   "execution_count": 40,
   "id": "2118a0b0-d1d9-4c08-8bc2-95b0ec4963c7",
   "metadata": {},
   "outputs": [
    {
     "data": {
      "text/plain": [
       "set"
      ]
     },
     "execution_count": 40,
     "metadata": {},
     "output_type": "execute_result"
    }
   ],
   "source": [
    "daily_pints = {1,2,3}\n",
    "\n",
    "type(daily_pints)"
   ]
  },
  {
   "cell_type": "code",
   "execution_count": 41,
   "id": "d22e5ccc-265e-4988-9ad3-f7980fe01c7b",
   "metadata": {},
   "outputs": [
    {
     "name": "stdout",
     "output_type": "stream",
     "text": [
      "{1, 2, 3}\n"
     ]
    }
   ],
   "source": [
    "print(daily_pints)"
   ]
  },
  {
   "cell_type": "code",
   "execution_count": 43,
   "id": "b672aa2d-3f15-459b-b3f8-a1721941919b",
   "metadata": {},
   "outputs": [
    {
     "name": "stdout",
     "output_type": "stream",
     "text": [
      "{1, 2, 3, 4, 5, 6, 31}\n"
     ]
    }
   ],
   "source": [
    "daily_pints_log = {1,2,31,2,3,4,1,2,5,6,3,2}\n",
    "\n",
    "print(daily_pints_log)"
   ]
  },
  {
   "cell_type": "code",
   "execution_count": 49,
   "id": "d3097bd5-f8c0-478c-ad17-de48bed570f8",
   "metadata": {},
   "outputs": [
    {
     "name": "stdout",
     "output_type": "stream",
     "text": [
      "{0, 1, 2, 3, 5, 7, 24}\n"
     ]
    }
   ],
   "source": [
    "wifes_daily_pints_log = {1,3,5,7,3,24,5,7,3,2,0}\n",
    "\n",
    "print(wifes_daily_pints_log)"
   ]
  },
  {
   "cell_type": "code",
   "execution_count": 46,
   "id": "3569b562-ce3b-4c9d-8b71-00aa9b8f1299",
   "metadata": {},
   "outputs": [
    {
     "name": "stdout",
     "output_type": "stream",
     "text": [
      "{0, 1, 2, 3, 4, 5, 6, 7, 24, 31}\n"
     ]
    }
   ],
   "source": [
    "# when we use | or operator, it will print all the unique values combaining the two sets\n",
    "\n",
    "print(daily_pints_log | wifes_daily_pints_log)"
   ]
  },
  {
   "cell_type": "code",
   "execution_count": 47,
   "id": "cc72f391-ca9d-40ec-91ce-941e30e0f000",
   "metadata": {},
   "outputs": [
    {
     "name": "stdout",
     "output_type": "stream",
     "text": [
      "{1, 2, 3, 5}\n"
     ]
    }
   ],
   "source": [
    "# when we use & and operator, it will print all the values that is in both sets\n",
    "\n",
    "print(daily_pints_log & wifes_daily_pints_log)"
   ]
  },
  {
   "cell_type": "code",
   "execution_count": 50,
   "id": "495be121-e993-4f57-90e1-f171204c02fc",
   "metadata": {},
   "outputs": [
    {
     "name": "stdout",
     "output_type": "stream",
     "text": [
      "{4, 6, 31}\n"
     ]
    }
   ],
   "source": [
    "# when we use - minus operator, it will print the values from the first set which is not in second set\n",
    "\n",
    "print(daily_pints_log - wifes_daily_pints_log)"
   ]
  },
  {
   "cell_type": "code",
   "execution_count": 51,
   "id": "52201cb0-f255-463a-855e-394c505fa949",
   "metadata": {},
   "outputs": [
    {
     "name": "stdout",
     "output_type": "stream",
     "text": [
      "{0, 24, 7}\n"
     ]
    }
   ],
   "source": [
    "# when we use - minus operator, it will print the values from the first set which is not in second set\n",
    "\n",
    "print(wifes_daily_pints_log - daily_pints_log)"
   ]
  },
  {
   "cell_type": "code",
   "execution_count": 52,
   "id": "5e563620-e7f9-4021-a3e7-b19b6716194e",
   "metadata": {},
   "outputs": [
    {
     "name": "stdout",
     "output_type": "stream",
     "text": [
      "{0, 4, 6, 7, 24, 31}\n"
     ]
    }
   ],
   "source": [
    "# when we use ^ power operator, it will print the values which are not common to both sets\n",
    "\n",
    "print(wifes_daily_pints_log ^ daily_pints_log)"
   ]
  },
  {
   "cell_type": "code",
   "execution_count": null,
   "id": "6e752b52-26a7-4a6b-b448-786ce5e9f224",
   "metadata": {},
   "outputs": [],
   "source": []
  },
  {
   "cell_type": "code",
   "execution_count": null,
   "id": "161e44a3-3691-44ee-a242-d452aef2b044",
   "metadata": {},
   "outputs": [],
   "source": []
  },
  {
   "cell_type": "markdown",
   "id": "6982b06f-4550-4944-bed8-a67796dd942d",
   "metadata": {},
   "source": [
    "# Dictionaries {Key : Value}\n",
    "\n",
    "Will use {} and have a Key:Value pair   ---------- We can also add Lists to Values"
   ]
  },
  {
   "cell_type": "code",
   "execution_count": 53,
   "id": "8eecb3dc-2b08-4151-9175-a9c85b25e48c",
   "metadata": {},
   "outputs": [
    {
     "data": {
      "text/plain": [
       "dict"
      ]
     },
     "execution_count": 53,
     "metadata": {},
     "output_type": "execute_result"
    }
   ],
   "source": [
    "dict_cream = {'name': 'Alex', 'weekly intake': 5, 'favorite ice creams': ['MCC', 'Vanilla']}\n",
    "\n",
    "type(dict_cream)"
   ]
  },
  {
   "cell_type": "code",
   "execution_count": 54,
   "id": "fac385f2-2a3b-4aae-b995-e4f735208e0e",
   "metadata": {},
   "outputs": [
    {
     "name": "stdout",
     "output_type": "stream",
     "text": [
      "{'name': 'Alex', 'weekly intake': 5, 'favorite ice creams': ['MCC', 'Vanilla']}\n"
     ]
    }
   ],
   "source": [
    "print(dict_cream)"
   ]
  },
  {
   "cell_type": "code",
   "execution_count": 55,
   "id": "03fc1736-74a0-4aa3-8294-4f879ce04f6a",
   "metadata": {},
   "outputs": [
    {
     "data": {
      "text/plain": [
       "dict_keys(['name', 'weekly intake', 'favorite ice creams'])"
      ]
     },
     "execution_count": 55,
     "metadata": {},
     "output_type": "execute_result"
    }
   ],
   "source": [
    "# keys() gets all the keys part from the dictionery\n",
    "dict_cream.keys()"
   ]
  },
  {
   "cell_type": "code",
   "execution_count": 57,
   "id": "488ed1c1-d8da-4983-b981-664e6aec251c",
   "metadata": {},
   "outputs": [
    {
     "data": {
      "text/plain": [
       "dict_values(['Alex', 5, ['MCC', 'Vanilla']])"
      ]
     },
     "execution_count": 57,
     "metadata": {},
     "output_type": "execute_result"
    }
   ],
   "source": [
    "# values() gets all the values part from the dictionery\n",
    "dict_cream.values()"
   ]
  },
  {
   "cell_type": "code",
   "execution_count": 59,
   "id": "fcccfe2a-e157-4f36-8fd7-d0f6d2cc7812",
   "metadata": {},
   "outputs": [
    {
     "data": {
      "text/plain": [
       "dict_items([('name', 'Alex'), ('weekly intake', 5), ('favorite ice creams', ['MCC', 'Vanilla'])])"
      ]
     },
     "execution_count": 59,
     "metadata": {},
     "output_type": "execute_result"
    }
   ],
   "source": [
    "# items() gets all the key,value pairs from the dictionery\n",
    "dict_cream.items()"
   ]
  },
  {
   "cell_type": "code",
   "execution_count": 62,
   "id": "4b21e3e8-ec42-47e5-a197-f6353af51b0e",
   "metadata": {},
   "outputs": [
    {
     "data": {
      "text/plain": [
       "'Alex'"
      ]
     },
     "execution_count": 62,
     "metadata": {},
     "output_type": "execute_result"
    }
   ],
   "source": [
    "# we can only call the values by key\n",
    "dict_cream['name']\n"
   ]
  },
  {
   "cell_type": "code",
   "execution_count": 64,
   "id": "20070e3f-cbf3-4c98-adbc-82447777a6ae",
   "metadata": {},
   "outputs": [
    {
     "name": "stdout",
     "output_type": "stream",
     "text": [
      "{'name': 'Flex', 'weekly intake': 5, 'favorite ice creams': ['MCC', 'Vanilla']}\n"
     ]
    }
   ],
   "source": [
    "# we can update values using key\n",
    "dict_cream['name'] = 'Flex'\n",
    "\n",
    "print(dict_cream)"
   ]
  },
  {
   "cell_type": "code",
   "execution_count": 69,
   "id": "48d14671-88cd-4552-92a6-6c2bfd6aacfe",
   "metadata": {},
   "outputs": [
    {
     "name": "stdout",
     "output_type": "stream",
     "text": [
      "{'name': 'Flex', 'weekly intake': 10, 'favorite ice creams': ['MCC', 'Vanilla'], 'weight': 300}\n"
     ]
    }
   ],
   "source": [
    "# update() updates the dictionery with the given keys\n",
    "dict_cream.update({'name': 'Flex', 'weekly intake': 10, 'weight':300})\n",
    "\n",
    "print(dict_cream)"
   ]
  },
  {
   "cell_type": "code",
   "execution_count": 71,
   "id": "e2c28346-405d-4501-af55-d8442ad7e72e",
   "metadata": {},
   "outputs": [
    {
     "name": "stdout",
     "output_type": "stream",
     "text": [
      "{'name': 'Flex', 'weekly intake': 10, 'favorite ice creams': ['MCC', 'Vanilla']}\n"
     ]
    }
   ],
   "source": [
    "# del <dict_name[key]> deletes the key:value pair in the dictionery\n",
    "del dict_cream['weight']\n",
    "\n",
    "print(dict_cream)"
   ]
  },
  {
   "cell_type": "code",
   "execution_count": null,
   "id": "ed19c1e2-efc2-4048-9704-0d09e73c80e9",
   "metadata": {},
   "outputs": [],
   "source": []
  }
 ],
 "metadata": {
  "kernelspec": {
   "display_name": "Python 3 (ipykernel)",
   "language": "python",
   "name": "python3"
  },
  "language_info": {
   "codemirror_mode": {
    "name": "ipython",
    "version": 3
   },
   "file_extension": ".py",
   "mimetype": "text/x-python",
   "name": "python",
   "nbconvert_exporter": "python",
   "pygments_lexer": "ipython3",
   "version": "3.11.7"
  }
 },
 "nbformat": 4,
 "nbformat_minor": 5
}

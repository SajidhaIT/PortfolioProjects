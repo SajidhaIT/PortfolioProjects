{
 "cells": [
  {
   "cell_type": "markdown",
   "id": "93dd3a57-42db-4cdb-be78-701b7ee782af",
   "metadata": {},
   "source": [
    "# if - elif - else Statements"
   ]
  },
  {
   "cell_type": "code",
   "execution_count": 1,
   "id": "d3891f8f-5cea-4084-80ee-006668373072",
   "metadata": {},
   "outputs": [
    {
     "name": "stdout",
     "output_type": "stream",
     "text": [
      "It Worked\n"
     ]
    }
   ],
   "source": [
    "if 25 > 10:\n",
    "    print('It Worked')"
   ]
  },
  {
   "cell_type": "code",
   "execution_count": 2,
   "id": "642349a9-2ccb-48ac-aa2b-1f306ff13fba",
   "metadata": {},
   "outputs": [
    {
     "name": "stdout",
     "output_type": "stream",
     "text": [
      "It did not worked\n"
     ]
    }
   ],
   "source": [
    "if 25 < 10:\n",
    "    print('It Worked')\n",
    "else:\n",
    "    print('It did not worked')"
   ]
  },
  {
   "cell_type": "code",
   "execution_count": 3,
   "id": "0ffb7abb-822e-4d30-97a3-a5869b56c1d8",
   "metadata": {},
   "outputs": [
    {
     "name": "stdout",
     "output_type": "stream",
     "text": [
      "elif Worked\n"
     ]
    }
   ],
   "source": [
    "if 25 < 10:\n",
    "    print('It Worked')\n",
    "elif 25 < 30:\n",
    "    print('elif Worked')\n",
    "else:\n",
    "    print('It did not worked')"
   ]
  },
  {
   "cell_type": "code",
   "execution_count": 5,
   "id": "dd6718ea-0407-4a41-a3b8-14988b5b147e",
   "metadata": {},
   "outputs": [
    {
     "name": "stdout",
     "output_type": "stream",
     "text": [
      "elif2 Worked\n"
     ]
    }
   ],
   "source": [
    "if 25 < 10:\n",
    "    print('It Worked')\n",
    "elif 25 < 20:\n",
    "    print('elif Worked')\n",
    "elif 25 < 40:\n",
    "    print('elif2 Worked')\n",
    "else:\n",
    "    print('It did not worked')"
   ]
  },
  {
   "cell_type": "code",
   "execution_count": 10,
   "id": "81895303-8ef3-4aa1-b4bf-5d91e3894665",
   "metadata": {},
   "outputs": [
    {
     "name": "stdout",
     "output_type": "stream",
     "text": [
      "It did not worked\n"
     ]
    }
   ],
   "source": [
    "# We can also write if else like this..\n",
    "\n",
    "print('It Worked') if 25 < 10  else print('It did not worked')\n"
   ]
  },
  {
   "cell_type": "code",
   "execution_count": 13,
   "id": "4d2b1904-106b-4355-a417-d0d8dfdc2ae5",
   "metadata": {},
   "outputs": [
    {
     "name": "stdout",
     "output_type": "stream",
     "text": [
      "It Worked\n",
      "Nested if Worked\n"
     ]
    }
   ],
   "source": [
    "# Nested if statements\n",
    "if 25 > 10:\n",
    "    print('It Worked')\n",
    "    if 10 > 5: \n",
    "        print('Nested if Worked')\n",
    "elif 25 < 20:\n",
    "    print('elif Worked')\n",
    "elif 25 < 40:\n",
    "    print('elif2 Worked')\n",
    "else:\n",
    "    print('It did not worked')"
   ]
  },
  {
   "cell_type": "code",
   "execution_count": null,
   "id": "609aca22-8b35-4051-ab87-82501e8e9a9f",
   "metadata": {},
   "outputs": [],
   "source": []
  }
 ],
 "metadata": {
  "kernelspec": {
   "display_name": "Python 3 (ipykernel)",
   "language": "python",
   "name": "python3"
  },
  "language_info": {
   "codemirror_mode": {
    "name": "ipython",
    "version": 3
   },
   "file_extension": ".py",
   "mimetype": "text/x-python",
   "name": "python",
   "nbconvert_exporter": "python",
   "pygments_lexer": "ipython3",
   "version": "3.11.7"
  }
 },
 "nbformat": 4,
 "nbformat_minor": 5
}

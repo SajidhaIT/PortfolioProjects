{
 "cells": [
  {
   "cell_type": "code",
   "execution_count": 1,
   "id": "e13ff218-c07c-44ce-847b-c5fa6e198282",
   "metadata": {},
   "outputs": [
    {
     "name": "stdout",
     "output_type": "stream",
     "text": [
      "Hello World!\n"
     ]
    }
   ],
   "source": [
    "print(\"Hello World!\")"
   ]
  },
  {
   "cell_type": "code",
   "execution_count": 1,
   "id": "0ae39d18-d89c-46c8-98f8-e33cb2e7a536",
   "metadata": {},
   "outputs": [
    {
     "name": "stdout",
     "output_type": "stream",
     "text": [
      "22\n"
     ]
    }
   ],
   "source": [
    "x = 22\n",
    "print(x)"
   ]
  },
  {
   "cell_type": "code",
   "execution_count": 2,
   "id": "fc687a23-95ea-4504-9e94-01b66891039b",
   "metadata": {},
   "outputs": [
    {
     "data": {
      "text/plain": [
       "int"
      ]
     },
     "execution_count": 2,
     "metadata": {},
     "output_type": "execute_result"
    }
   ],
   "source": [
    "type(x)"
   ]
  },
  {
   "cell_type": "code",
   "execution_count": 7,
   "id": "f70d1e10-e989-49c7-abf5-931c195d86f1",
   "metadata": {},
   "outputs": [
    {
     "name": "stdout",
     "output_type": "stream",
     "text": [
      "Mint Chocolate Chip\n"
     ]
    }
   ],
   "source": [
    "y = 'Mint Chocolate Chip'\n",
    "print(y)"
   ]
  },
  {
   "cell_type": "code",
   "execution_count": 8,
   "id": "10d09000-eda2-44d7-9f94-09a548c79a0c",
   "metadata": {},
   "outputs": [
    {
     "data": {
      "text/plain": [
       "str"
      ]
     },
     "execution_count": 8,
     "metadata": {},
     "output_type": "execute_result"
    }
   ],
   "source": [
    "type(y)"
   ]
  },
  {
   "cell_type": "code",
   "execution_count": 9,
   "id": "a00a5336-952e-4089-910d-664a404c2949",
   "metadata": {},
   "outputs": [
    {
     "name": "stdout",
     "output_type": "stream",
     "text": [
      "Mint Chocolate Chip\n",
      "Chocolate Chip\n"
     ]
    }
   ],
   "source": [
    "y = 'Mint Chocolate Chip'\n",
    "Y = 'Chocolate Chip'\n",
    "print(y)\n",
    "print(Y)"
   ]
  },
  {
   "cell_type": "code",
   "execution_count": 10,
   "id": "1ab1024a-ef0c-4770-bdcb-9f09871f9731",
   "metadata": {},
   "outputs": [
    {
     "name": "stdout",
     "output_type": "stream",
     "text": [
      "Chocolate\n",
      "Vanilla\n",
      "Rocky Road\n"
     ]
    }
   ],
   "source": [
    "x,y,z = 'Chocolate','Vanilla', 'Rocky Road'\n",
    "print(x)\n",
    "print(y)\n",
    "print(z)"
   ]
  },
  {
   "cell_type": "code",
   "execution_count": 11,
   "id": "fb7518f4-a028-4b17-9c4e-5dea8ed81029",
   "metadata": {},
   "outputs": [
    {
     "name": "stdout",
     "output_type": "stream",
     "text": [
      "Chocolate Vanilla Rocky Road\n",
      "Chocolate Vanilla Rocky Road\n",
      "Chocolate Vanilla Rocky Road\n"
     ]
    }
   ],
   "source": [
    "x = y = z = 'Chocolate Vanilla Rocky Road'\n",
    "print(x)\n",
    "print(y)\n",
    "print(z)"
   ]
  },
  {
   "cell_type": "code",
   "execution_count": 14,
   "id": "a47330a3-c8a1-41b0-8bf3-1f77c5d64fdc",
   "metadata": {},
   "outputs": [
    {
     "name": "stdout",
     "output_type": "stream",
     "text": [
      "Chocolate\n",
      "Vanilla\n",
      "Rocky Road\n"
     ]
    }
   ],
   "source": [
    "# Lists\n",
    "ice_cream = ['Chocolate','Vanilla', 'Rocky Road']\n",
    "\n",
    "x,y,z = ice_cream\n",
    "print(x)\n",
    "print(y)\n",
    "print(z)"
   ]
  },
  {
   "cell_type": "code",
   "execution_count": null,
   "id": "080de7a0-46cb-48b0-b721-90a101342ea0",
   "metadata": {},
   "outputs": [],
   "source": []
  },
  {
   "cell_type": "code",
   "execution_count": 15,
   "id": "7bc124ef-207e-4632-bbec-c394a7ada5a4",
   "metadata": {},
   "outputs": [],
   "source": [
    "# Camel Case\n",
    "testVariableCase = 'Vanilla'\n"
   ]
  },
  {
   "cell_type": "code",
   "execution_count": 16,
   "id": "8b6917b1-8e14-4330-823d-2d200bf90e7b",
   "metadata": {},
   "outputs": [],
   "source": [
    "# Pascal Case\n",
    "TestVariableCase = 'Vanilla'"
   ]
  },
  {
   "cell_type": "code",
   "execution_count": 17,
   "id": "08a7e7f2-2cfa-4130-a84b-cf2cdc3037f0",
   "metadata": {},
   "outputs": [],
   "source": [
    "# Snake Case\n",
    "test_variable_case = 'Vanilla'"
   ]
  },
  {
   "cell_type": "code",
   "execution_count": 20,
   "id": "14d6cc46-0957-4a44-ba72-2a431044ae11",
   "metadata": {},
   "outputs": [
    {
     "name": "stdout",
     "output_type": "stream",
     "text": [
      "Ice Cream is my favorite.\n"
     ]
    }
   ],
   "source": [
    "x = 'Ice Cream is my favorite' + '.'\n",
    "print(x)"
   ]
  },
  {
   "cell_type": "code",
   "execution_count": 21,
   "id": "03b38191-34f4-4912-9063-f480c7ec1fab",
   "metadata": {},
   "outputs": [
    {
     "name": "stdout",
     "output_type": "stream",
     "text": [
      "5\n"
     ]
    }
   ],
   "source": [
    "y = 3 + 2\n",
    "print(y)"
   ]
  },
  {
   "cell_type": "code",
   "execution_count": 22,
   "id": "c079d382-a297-49de-b11a-660225b9497c",
   "metadata": {},
   "outputs": [
    {
     "name": "stdout",
     "output_type": "stream",
     "text": [
      "Ice Cream is my favorite.\n"
     ]
    }
   ],
   "source": [
    "x = 'Ice Cream'\n",
    "y = ' is'\n",
    "z = ' my favorite.'\n",
    "print(x+y+z)\n"
   ]
  },
  {
   "cell_type": "code",
   "execution_count": 23,
   "id": "10865242-b7c0-4700-b654-282e62930351",
   "metadata": {},
   "outputs": [
    {
     "name": "stdout",
     "output_type": "stream",
     "text": [
      "Ice Cream 2\n"
     ]
    }
   ],
   "source": [
    "x = 'Ice Cream'\n",
    "y = 2\n",
    "print(x,y)"
   ]
  },
  {
   "cell_type": "code",
   "execution_count": null,
   "id": "87eab150-27de-4992-9539-707dbe5c341b",
   "metadata": {},
   "outputs": [],
   "source": []
  }
 ],
 "metadata": {
  "kernelspec": {
   "display_name": "Python 3 (ipykernel)",
   "language": "python",
   "name": "python3"
  },
  "language_info": {
   "codemirror_mode": {
    "name": "ipython",
    "version": 3
   },
   "file_extension": ".py",
   "mimetype": "text/x-python",
   "name": "python",
   "nbconvert_exporter": "python",
   "pygments_lexer": "ipython3",
   "version": "3.11.7"
  }
 },
 "nbformat": 4,
 "nbformat_minor": 5
}

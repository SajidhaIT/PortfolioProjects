{
 "cells": [
  {
   "cell_type": "markdown",
   "id": "00e0cd27-954c-4892-874c-531cdbb207b0",
   "metadata": {},
   "source": [
    "# Inspecting Web Pages with HTML\n"
   ]
  },
  {
   "cell_type": "code",
   "execution_count": 1,
   "id": "53b445e7-3c47-43f8-a76d-7d50fadac847",
   "metadata": {},
   "outputs": [],
   "source": [
    "# https://www.scrapethissite.com/pages/forms/\n"
   ]
  },
  {
   "cell_type": "code",
   "execution_count": 2,
   "id": "cc2c1304-4e9d-4f67-8700-ff7a748135d7",
   "metadata": {},
   "outputs": [],
   "source": [
    "# https://www.youtube.com/watch?v=q-kbzWjyPak&list=PLUaB-1hjhk8FE_XZ87vPPSfHqb6OcM0cF&index=53"
   ]
  },
  {
   "cell_type": "code",
   "execution_count": null,
   "id": "4be36a15-b982-40d7-8805-d62042653daa",
   "metadata": {},
   "outputs": [],
   "source": []
  }
 ],
 "metadata": {
  "kernelspec": {
   "display_name": "Python 3 (ipykernel)",
   "language": "python",
   "name": "python3"
  },
  "language_info": {
   "codemirror_mode": {
    "name": "ipython",
    "version": 3
   },
   "file_extension": ".py",
   "mimetype": "text/x-python",
   "name": "python",
   "nbconvert_exporter": "python",
   "pygments_lexer": "ipython3",
   "version": "3.11.7"
  }
 },
 "nbformat": 4,
 "nbformat_minor": 5
}

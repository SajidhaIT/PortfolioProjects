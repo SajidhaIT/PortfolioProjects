{
 "cells": [
  {
   "cell_type": "markdown",
   "id": "007ccd7c-7b1d-4cd2-8a7d-db6b93861b14",
   "metadata": {},
   "source": [
    "# Find and Find_all"
   ]
  },
  {
   "cell_type": "code",
   "execution_count": null,
   "id": "771a6b61-5d63-4ac0-b64d-bf5ebc2fbd61",
   "metadata": {},
   "outputs": [],
   "source": []
  },
  {
   "cell_type": "code",
   "execution_count": 38,
   "id": "8549042f-1ff4-4cb9-be63-63cc8087ddc7",
   "metadata": {},
   "outputs": [],
   "source": [
    "from bs4 import BeautifulSoup\n",
    "import requests\n",
    "\n",
    "# url = 'https://www.scrapethissite.com/pages.forms/'\n",
    "# url = 'https://www.sajidhagroup.com/index.html'\n",
    "url = 'https://www.sajidhagroup.com/aboutus.html'\n",
    "page = requests.get(url)\n",
    "soup = BeautifulSoup(page.text, 'html')\n",
    "\n",
    "\n",
    "\n"
   ]
  },
  {
   "cell_type": "code",
   "execution_count": 39,
   "id": "849ab714-acc5-4fca-bbed-ee5b39ad134b",
   "metadata": {},
   "outputs": [
    {
     "data": {
      "text/plain": [
       "<div class=\"ceomsg\"><img alt=\"cover header\" src=\"images/header.png\"/> </div>"
      ]
     },
     "execution_count": 39,
     "metadata": {},
     "output_type": "execute_result"
    }
   ],
   "source": [
    "soup.find('div')    # Returns first <div>"
   ]
  },
  {
   "cell_type": "code",
   "execution_count": null,
   "id": "8bbbd0b2-f5f1-4e9c-b047-66c33e680e3c",
   "metadata": {},
   "outputs": [],
   "source": []
  },
  {
   "cell_type": "code",
   "execution_count": 40,
   "id": "dd4c2649-0fae-4ba3-8793-4130bd997450",
   "metadata": {},
   "outputs": [
    {
     "data": {
      "text/plain": [
       "[<div class=\"ceomsg\"><img alt=\"cover header\" src=\"images/header.png\"/> </div>,\n",
       " <div id=\"cssmenu\">\n",
       " <ul>\n",
       " <li><a href=\"contact.html\">Contact Us</a></li>\n",
       " <li><a href=\"career.html\">Careers</a></li>\n",
       " <li><a href=\"outlet.html\">Outlets</a></li>\n",
       " <li><a href=\"tawfeer.html\">Tawfeer Card</a></li>\n",
       " <li><a href=\"news.html\">News &amp; Events</a></li>\n",
       " <li><a href=\"promotion.html\">Promotion</a></li>\n",
       " <li><a href=\"aboutus.html\">About Us</a></li>\n",
       " <li><a class=\"active\" href=\"index-2.html\"><span>Home</span></a></li>\n",
       " </ul>\n",
       " </div>,\n",
       " <div id=\"content\">\n",
       " <!--<div class=\"ceomsg\"><img src=\"images/ceo-3.jpg\" alt=\"cover header\" /></div> -->\n",
       " <div class=\"contnt-inr-box\">\n",
       " <h3>About Us </h3>\n",
       " <p>Sajidha Group of Companies has always been known as a pioneer of the retail industry in the East Coast region of United Arab Emirates.  It has the privilege of appreciation and whole hearted support from the people of the region.   The quality of service and promptness has always been with the group, since its foundation.\n",
       "             Having established in the year 1979, being the Head Quarter at Khorfakkan, the group represents value based retailing with more than 30 outlets and has been an ultimate destination for serious shoppers around the region, comprising Kalba, Fujairah, Khorfakkan, Dhadna and Dibba.</p>\n",
       " <p>The founder of the Company Mr. Haji Umer Bava adorns the Director-ship of this organization.  As an expatriate from India, he started his career in the Emirates 35 years ago.  He has immense of experience in the business scenario in all the branches.   His advice and expertise always guided the company to a wonderful success history lying behind.\n",
       "             The mantle of leadership is now being held by his heirs Mr. Ansar Alungal Ummer as Chief Executive Officer and Mr. Mohammed Anwar as Managing Director. There are five Managing Partners to guide the Sajidha Group.</p>\n",
       " <p>The Company preserves well customized and targeted business portfolio which leads them to triumph.  All types of superior and advanced infrastructures are made available by the company in all its channels for apposite and excellent functioning.  With its amusing and innovative deviation from the habitual supermarkets, Sajidha offers a mega modern shopping ambience for the customers by availing all possible requirements of the customers under a single umbrella.\n",
       " \t\t\tThe Company has well built relation with the nationals and government bodies of this region.  Also they keep healthy tie-up and trading contracts with foremost distributors of national and international brand products.\n",
       "             To be remarked as the pioneer of retail industry providing our customers a total shopping experience that consistently exceeds their expectations and offers them the goods and services they want with prices and quality that ensure superior value. Sajidha Group of companies is always dedicated to customer's satisfaction and meeting their needs. We will deliver an outstanding shopping experience so customers will identify Sajidha as the best choice for quality products. </p>\n",
       " <h4>DIVISIONS</h4>\n",
       " <p>The Company holds different divisions of services, like Groceries, Super Markets, Cafeterias, Restaurants, Electronics, Building Materials, Mobile Shops, etc, etc,.  The group also administers a Qur'an Study Centre which is considered as an effort towards religious purity &amp; charity.</p>\n",
       " <h5>RESOURCE PERSONNEL</h5>\n",
       " <p>Different categories of human resource personnel are always to the credit of the organization for its advance tactics.  Strength of about 500 staff is always with the company towards its growth.  The overall system of the organization is well scheduled and sustained with the help of highly dedicated and talented resource personnel in each and every division.  Potential efforts and systems are always implemented by the company for the fruitful business operations throughout the divisions.</p>\n",
       " </div>\n",
       " </div>,\n",
       " <div class=\"contnt-inr-box\">\n",
       " <h3>About Us </h3>\n",
       " <p>Sajidha Group of Companies has always been known as a pioneer of the retail industry in the East Coast region of United Arab Emirates.  It has the privilege of appreciation and whole hearted support from the people of the region.   The quality of service and promptness has always been with the group, since its foundation.\n",
       "             Having established in the year 1979, being the Head Quarter at Khorfakkan, the group represents value based retailing with more than 30 outlets and has been an ultimate destination for serious shoppers around the region, comprising Kalba, Fujairah, Khorfakkan, Dhadna and Dibba.</p>\n",
       " <p>The founder of the Company Mr. Haji Umer Bava adorns the Director-ship of this organization.  As an expatriate from India, he started his career in the Emirates 35 years ago.  He has immense of experience in the business scenario in all the branches.   His advice and expertise always guided the company to a wonderful success history lying behind.\n",
       "             The mantle of leadership is now being held by his heirs Mr. Ansar Alungal Ummer as Chief Executive Officer and Mr. Mohammed Anwar as Managing Director. There are five Managing Partners to guide the Sajidha Group.</p>\n",
       " <p>The Company preserves well customized and targeted business portfolio which leads them to triumph.  All types of superior and advanced infrastructures are made available by the company in all its channels for apposite and excellent functioning.  With its amusing and innovative deviation from the habitual supermarkets, Sajidha offers a mega modern shopping ambience for the customers by availing all possible requirements of the customers under a single umbrella.\n",
       " \t\t\tThe Company has well built relation with the nationals and government bodies of this region.  Also they keep healthy tie-up and trading contracts with foremost distributors of national and international brand products.\n",
       "             To be remarked as the pioneer of retail industry providing our customers a total shopping experience that consistently exceeds their expectations and offers them the goods and services they want with prices and quality that ensure superior value. Sajidha Group of companies is always dedicated to customer's satisfaction and meeting their needs. We will deliver an outstanding shopping experience so customers will identify Sajidha as the best choice for quality products. </p>\n",
       " <h4>DIVISIONS</h4>\n",
       " <p>The Company holds different divisions of services, like Groceries, Super Markets, Cafeterias, Restaurants, Electronics, Building Materials, Mobile Shops, etc, etc,.  The group also administers a Qur'an Study Centre which is considered as an effort towards religious purity &amp; charity.</p>\n",
       " <h5>RESOURCE PERSONNEL</h5>\n",
       " <p>Different categories of human resource personnel are always to the credit of the organization for its advance tactics.  Strength of about 500 staff is always with the company towards its growth.  The overall system of the organization is well scheduled and sustained with the help of highly dedicated and talented resource personnel in each and every division.  Potential efforts and systems are always implemented by the company for the fruitful business operations throughout the divisions.</p>\n",
       " </div>,\n",
       " <div id=\"footer\">\n",
       " <div class=\"right\">© 2015. All rights reserved SAJIDHA GROUP</div>\n",
       " <ul>\n",
       " <li><a class=\"active\" href=\"index-2.html\"><span>Home</span></a></li>\n",
       " <li><a href=\"aboutus.html\">About Us</a></li>\n",
       " <li><a href=\"promotion.html\">Promotion</a></li>\n",
       " <li><a href=\"news.html\">News &amp; Events</a></li>\n",
       " <li><a href=\"tawfeer.html\">Tawfeer Card</a></li>\n",
       " <li><a href=\"outlet.html\">Outlets</a></li>\n",
       " <li><a href=\"career.html\">Careers</a></li>\n",
       " <li><a href=\"contact.html\">Contact Us</a></li>\n",
       " <li>IP: 2.51.255.92</li>\n",
       " <li><img alt=\"Free Hit Counters\" border=\"0\" src=\"http://www.easycounter.com/counter.php?to_noushad\"/></li>\n",
       " </ul>\n",
       " </div>,\n",
       " <div class=\"right\">© 2015. All rights reserved SAJIDHA GROUP</div>]"
      ]
     },
     "execution_count": 40,
     "metadata": {},
     "output_type": "execute_result"
    }
   ],
   "source": [
    "soup.find_all('div')   # Returns all <div>"
   ]
  },
  {
   "cell_type": "code",
   "execution_count": 43,
   "id": "ef5163cf-534f-4924-a096-4f7e85526d02",
   "metadata": {},
   "outputs": [
    {
     "data": {
      "text/plain": [
       "'Sajidha Group of Companies has always been known as a pioneer of the retail industry in the East Coast region of United Arab Emirates.  It has the privilege of appreciation and whole hearted support from the people of the region.   The quality of service and promptness has always been with the group, since its foundation.\\n            Having established in the year 1979, being the Head Quarter at Khorfakkan, the group represents value based retailing with more than 30 outlets and has been an ultimate destination for serious shoppers around the region, comprising Kalba, Fujairah, Khorfakkan, Dhadna and Dibba.'"
      ]
     },
     "execution_count": 43,
     "metadata": {},
     "output_type": "execute_result"
    }
   ],
   "source": [
    "soup.find('p').text.strip()  # Strips text from first <p>"
   ]
  },
  {
   "cell_type": "code",
   "execution_count": null,
   "id": "2b7083d8-daaa-47fe-8e45-3f0d1fbc9280",
   "metadata": {},
   "outputs": [],
   "source": []
  },
  {
   "cell_type": "code",
   "execution_count": 9,
   "id": "4cec257d-62c6-442c-b071-c6ebfc302061",
   "metadata": {},
   "outputs": [
    {
     "data": {
      "text/plain": [
       "[<div class=\"col-md-12\">\n",
       " <ul class=\"nav nav-tabs\">\n",
       " <li id=\"nav-homepage\">\n",
       " <a class=\"nav-link hidden-sm hidden-xs\" href=\"/\">\n",
       " <img id=\"nav-logo\" src=\"/static/images/scraper-icon.png\"/>\n",
       "                                 Scrape This Site\n",
       "                             </a>\n",
       " </li>\n",
       " <li id=\"nav-sandbox\">\n",
       " <a class=\"nav-link\" href=\"/pages/\">\n",
       " <i class=\"glyphicon glyphicon-console hidden-sm hidden-xs\"></i>\n",
       "                                 Sandbox\n",
       "                             </a>\n",
       " </li>\n",
       " <li id=\"nav-lessons\">\n",
       " <a class=\"nav-link\" href=\"/lessons/\">\n",
       " <i class=\"glyphicon glyphicon-education hidden-sm hidden-xs\"></i>\n",
       "                                 Lessons\n",
       "                             </a>\n",
       " </li>\n",
       " <li id=\"nav-faq\">\n",
       " <a class=\"nav-link\" href=\"/faq/\">\n",
       " <i class=\"glyphicon glyphicon-flag hidden-sm hidden-xs\"></i>\n",
       "                                 FAQ\n",
       "                             </a>\n",
       " </li>\n",
       " <li class=\"pull-right\" id=\"nav-login\">\n",
       " <a class=\"nav-link\" href=\"/login/\">\n",
       "                                 Login\n",
       "                             </a>\n",
       " </li>\n",
       " </ul>\n",
       " </div>,\n",
       " <div class=\"col-md-12 text-center text-muted\">\n",
       "                     Lessons and Videos © Hartley Brody 2023\n",
       "                 </div>]"
      ]
     },
     "execution_count": 9,
     "metadata": {},
     "output_type": "execute_result"
    }
   ],
   "source": [
    "soup.find_all('div', class_ = 'col-md-12')   # Returns all <div> with class=\"col-md-12\""
   ]
  },
  {
   "cell_type": "code",
   "execution_count": null,
   "id": "494eba0b-8bc3-4586-8f26-5304baf36da5",
   "metadata": {},
   "outputs": [],
   "source": []
  },
  {
   "cell_type": "code",
   "execution_count": 26,
   "id": "1f164947-38a1-4680-9436-3c3f19ea8566",
   "metadata": {},
   "outputs": [
    {
     "data": {
      "text/plain": [
       "[<p>\n",
       "                             Maybe try going to <a href=\"/\">the homepage</a>\n",
       " </p>]"
      ]
     },
     "execution_count": 26,
     "metadata": {},
     "output_type": "execute_result"
    }
   ],
   "source": [
    "soup.find_all('p')   # Returns all <p> "
   ]
  },
  {
   "cell_type": "code",
   "execution_count": null,
   "id": "4456081a-3e48-41a9-b2f0-9aeea31ce7a2",
   "metadata": {},
   "outputs": [],
   "source": []
  },
  {
   "cell_type": "code",
   "execution_count": null,
   "id": "5932a835-723f-43ba-a2b7-d88d706f6023",
   "metadata": {},
   "outputs": [],
   "source": []
  }
 ],
 "metadata": {
  "kernelspec": {
   "display_name": "Python 3 (ipykernel)",
   "language": "python",
   "name": "python3"
  },
  "language_info": {
   "codemirror_mode": {
    "name": "ipython",
    "version": 3
   },
   "file_extension": ".py",
   "mimetype": "text/x-python",
   "name": "python",
   "nbconvert_exporter": "python",
   "pygments_lexer": "ipython3",
   "version": "3.11.7"
  }
 },
 "nbformat": 4,
 "nbformat_minor": 5
}

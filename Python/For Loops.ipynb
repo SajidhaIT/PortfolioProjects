{
 "cells": [
  {
   "cell_type": "markdown",
   "id": "9ec329c5-5289-489c-b463-c794fedf2d2d",
   "metadata": {},
   "source": [
    "# For Loops"
   ]
  },
  {
   "cell_type": "code",
   "execution_count": 1,
   "id": "f985e123-deba-4003-9310-517d240d4f6d",
   "metadata": {},
   "outputs": [],
   "source": [
    "integers = [1,2,3,4,5]"
   ]
  },
  {
   "cell_type": "code",
   "execution_count": 2,
   "id": "2e69c570-8a86-4246-83ec-39b057290532",
   "metadata": {},
   "outputs": [
    {
     "name": "stdout",
     "output_type": "stream",
     "text": [
      "1\n",
      "2\n",
      "3\n",
      "4\n",
      "5\n"
     ]
    }
   ],
   "source": [
    "for number in integers:\n",
    "    print(number)"
   ]
  },
  {
   "cell_type": "code",
   "execution_count": 3,
   "id": "62cd16df-7713-4261-89e5-86ed9109858a",
   "metadata": {},
   "outputs": [
    {
     "name": "stdout",
     "output_type": "stream",
     "text": [
      "Hai!\n",
      "Hai!\n",
      "Hai!\n",
      "Hai!\n",
      "Hai!\n"
     ]
    }
   ],
   "source": [
    "for number in integers:\n",
    "    print('Hai!')\n",
    "    "
   ]
  },
  {
   "cell_type": "code",
   "execution_count": 4,
   "id": "786c21ef-cf9a-419e-b6b2-a0752647609d",
   "metadata": {},
   "outputs": [
    {
     "name": "stdout",
     "output_type": "stream",
     "text": [
      "2\n",
      "4\n",
      "6\n",
      "8\n",
      "10\n"
     ]
    }
   ],
   "source": [
    "for number in integers:\n",
    "    print(number + number)"
   ]
  },
  {
   "cell_type": "code",
   "execution_count": null,
   "id": "51a6c35d-c7a1-4244-8b98-99b6e7eaf0df",
   "metadata": {},
   "outputs": [],
   "source": []
  },
  {
   "cell_type": "code",
   "execution_count": 5,
   "id": "b64a7d14-f5a9-4c8e-845f-d05b24e0a77b",
   "metadata": {},
   "outputs": [],
   "source": [
    "ice_cream_dict = {'name':'Alex', 'weekly intake':5, 'favorite ice creams':['MCC', 'Chocolate']}"
   ]
  },
  {
   "cell_type": "code",
   "execution_count": 7,
   "id": "a2677c8e-9fa5-4019-affd-e14435f739ef",
   "metadata": {},
   "outputs": [
    {
     "name": "stdout",
     "output_type": "stream",
     "text": [
      "Alex\n",
      "5\n",
      "['MCC', 'Chocolate']\n"
     ]
    }
   ],
   "source": [
    "for cream in ice_cream_dict.values():\n",
    "    print(cream)"
   ]
  },
  {
   "cell_type": "code",
   "execution_count": 10,
   "id": "8ac20b4f-2d24-40ca-b6a6-82c0c5f18928",
   "metadata": {},
   "outputs": [
    {
     "name": "stdout",
     "output_type": "stream",
     "text": [
      "name -> Alex\n",
      "weekly intake -> 5\n",
      "favorite ice creams -> ['MCC', 'Chocolate']\n"
     ]
    }
   ],
   "source": [
    "for key, value in ice_cream_dict.items():\n",
    "    print(key, '->',value)"
   ]
  },
  {
   "cell_type": "code",
   "execution_count": null,
   "id": "41589dc6-bdab-4c04-b696-695784b19928",
   "metadata": {},
   "outputs": [],
   "source": []
  },
  {
   "cell_type": "code",
   "execution_count": null,
   "id": "a78eaecd-800b-436e-9cbd-64531638f542",
   "metadata": {},
   "outputs": [],
   "source": []
  },
  {
   "cell_type": "markdown",
   "id": "266135df-3be6-470b-b183-da83266493d1",
   "metadata": {},
   "source": [
    "# Nested For Loops"
   ]
  },
  {
   "cell_type": "code",
   "execution_count": 12,
   "id": "f123b660-2d72-4f1d-b328-b07a9205cbd0",
   "metadata": {},
   "outputs": [],
   "source": [
    "flavors = ['Vanilla', 'Strawberry', 'Cookie']\n",
    "toppings = ['Hot Fudge', 'Oreos', 'Marshmallows']"
   ]
  },
  {
   "cell_type": "code",
   "execution_count": 15,
   "id": "5fbf7559-c24b-467d-8862-883147e07b75",
   "metadata": {},
   "outputs": [
    {
     "name": "stdout",
     "output_type": "stream",
     "text": [
      "Vanilla topped with Hot Fudge\n",
      "Vanilla topped with Oreos\n",
      "Vanilla topped with Marshmallows\n",
      "Strawberry topped with Hot Fudge\n",
      "Strawberry topped with Oreos\n",
      "Strawberry topped with Marshmallows\n",
      "Cookie topped with Hot Fudge\n",
      "Cookie topped with Oreos\n",
      "Cookie topped with Marshmallows\n"
     ]
    }
   ],
   "source": [
    "for one in flavors:\n",
    "    for two in toppings:\n",
    "        print(one,'topped with',two)"
   ]
  },
  {
   "cell_type": "code",
   "execution_count": null,
   "id": "d13302a1-836f-461a-a0c9-69f3bce415f2",
   "metadata": {},
   "outputs": [],
   "source": []
  },
  {
   "cell_type": "code",
   "execution_count": null,
   "id": "7b639863-840c-472e-a204-0b7479b5cb39",
   "metadata": {},
   "outputs": [],
   "source": []
  },
  {
   "cell_type": "code",
   "execution_count": null,
   "id": "7d348c7a-f7fe-4523-8c4e-957888de2914",
   "metadata": {},
   "outputs": [],
   "source": []
  },
  {
   "cell_type": "code",
   "execution_count": null,
   "id": "53ddf167-791c-408c-97f3-968f848e80a0",
   "metadata": {},
   "outputs": [],
   "source": []
  },
  {
   "cell_type": "code",
   "execution_count": null,
   "id": "9facc11a-f849-4608-a916-2c7fe2c4d7fe",
   "metadata": {},
   "outputs": [],
   "source": []
  },
  {
   "cell_type": "code",
   "execution_count": null,
   "id": "cb616f92-fff7-4a3a-b09f-9f2a50df33b6",
   "metadata": {},
   "outputs": [],
   "source": []
  },
  {
   "cell_type": "code",
   "execution_count": null,
   "id": "1d46737d-240b-45ed-a18c-3e64807b06f8",
   "metadata": {},
   "outputs": [],
   "source": []
  }
 ],
 "metadata": {
  "kernelspec": {
   "display_name": "Python 3 (ipykernel)",
   "language": "python",
   "name": "python3"
  },
  "language_info": {
   "codemirror_mode": {
    "name": "ipython",
    "version": 3
   },
   "file_extension": ".py",
   "mimetype": "text/x-python",
   "name": "python",
   "nbconvert_exporter": "python",
   "pygments_lexer": "ipython3",
   "version": "3.11.7"
  }
 },
 "nbformat": 4,
 "nbformat_minor": 5
}
